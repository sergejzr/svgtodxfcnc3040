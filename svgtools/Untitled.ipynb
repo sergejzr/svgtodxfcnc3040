{
 "cells": [
  {
   "cell_type": "code",
   "execution_count": null,
   "metadata": {},
   "outputs": [],
   "source": []
  },
  {
   "cell_type": "code",
   "execution_count": null,
   "metadata": {},
   "outputs": [],
   "source": []
  },
  {
   "cell_type": "code",
   "execution_count": 133,
   "metadata": {},
   "outputs": [
    {
     "data": {
      "image/png": "[encoded data removed]",
      "text/plain": [
       "<Figure size 720x720 with 1 Axes>"
      ]
     },
     "metadata": {},
     "output_type": "display_data"
    }
   ],
   "source": [
    "import numpy as np\n",
    "import matplotlib.pyplot as plt\n",
    "from matplotlib import style\n",
    "import numpy as np\n",
    "from sklearn.preprocessing import normalize\n",
    "\n",
    "style.use('fivethirtyeight')\n",
    "\n",
    "\n",
    "def plotline(axis=ax0,p1=p1,p2=p2,colorx=\"white\"):\n",
    "    A=np.array([p1,p2])\n",
    "    ax0.arrow(A[0][0],A[0][1],A[1][0]-A[0][0],A[1][1]-A[0][1],width=0.02,color=colorx,\n",
    "               head_length=0.0,head_width=0.0)\n",
    "\n",
    "    \n",
    "def splitinthemiddle1(point1,point2,gap):\n",
    "    \n",
    "    inverse=np.array([0,0])-np.array(point1)\n",
    "    v=np.array([point1,point2])\n",
    "    v=v+inverse\n",
    "    \n",
    "    dist = np.linalg.norm(v[0]-v[1])\n",
    "    \n",
    "    n1=(((dist/2-gap/2)/dist)*v)\n",
    "    n1=n1-n1[0]\n",
    "    \n",
    "    n2=(((dist/2+gap/2)/dist)*v)\n",
    "    n2=n2-n2[0]\n",
    "    \n",
    "    return [n1-inverse,np.array([n2[1],v[1]])-inverse]\n",
    "\n",
    "\n",
    "def splitinthemiddle(point1,point2,gap):\n",
    "    \n",
    "    inverse=np.array([0,0])-np.array(point1)\n",
    "    v=np.array([point1,point2])\n",
    "    v=v+inverse\n",
    "    \n",
    "    dist = np.linalg.norm(v[0]-v[1])\n",
    "    \n",
    "    n1=(((dist-gap)/2/dist)*v)\n",
    "    n1=n1-n1[0]\n",
    "    \n",
    "    n2=(((dist+gap)/2/dist)*v)\n",
    "    n2=n2-n2[0]\n",
    "    \n",
    "    return [n1-inverse,np.array([n2[1],v[1]])-inverse]\n",
    "\n",
    "fig = plt.figure(figsize=(10,10))\n",
    "ax0 = fig.add_subplot(212)\n",
    "\n",
    "point1 = [1000, 500]\n",
    "point2 = [-100, -200]\n",
    "\n",
    "plotline(ax0,point1,point2, colorx=\"yellow\")\n",
    "\n",
    "\n",
    "for line in splitinthemiddle(point1,point2,5):\n",
    "    plotline(ax0,line[0],line[1], colorx=\"blue\")\n",
    "\n",
    "\n",
    "plt.show()\n"
   ]
  },
  {
   "cell_type": "code",
   "execution_count": null,
   "metadata": {},
   "outputs": [],
   "source": []
  },
  {
   "cell_type": "code",
   "execution_count": null,
   "metadata": {},
   "outputs": [],
   "source": []
  }
 ],
 "metadata": {
  "kernelspec": {
   "display_name": "Python 3",
   "language": "python",
   "name": "python3"
  },
  "language_info": {
   "codemirror_mode": {
    "name": "ipython",
    "version": 3
   },
   "file_extension": ".py",
   "mimetype": "text/x-python",
   "name": "python",
   "nbconvert_exporter": "python",
   "pygments_lexer": "ipython3",
   "version": "3.8.5"
  }
 },
 "nbformat": 4,
 "nbformat_minor": 4
}
